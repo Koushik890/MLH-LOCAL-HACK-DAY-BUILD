{
  "nbformat": 4,
  "nbformat_minor": 0,
  "metadata": {
    "colab": {
      "name": "Build a Project that Uses a Dataset - LHD Build.ipynb",
      "provenance": []
    },
    "kernelspec": {
      "name": "python3",
      "display_name": "Python 3"
    }
  },
  "cells": [
    {
      "cell_type": "code",
      "metadata": {
        "id": "RwX4aGFR1l6v"
      },
      "source": [
        "import nltk\r\n",
        "from nltk.tokenize import RegexpTokenizer, word_tokenize\r\n",
        "from nltk.stem import PorterStemmer\r\n",
        "from nltk.corpus import stopwords\r\n",
        "import pandas as pd\r\n",
        "import numpy as np\r\n",
        "from sklearn.preprocessing import LabelEncoder\r\n",
        "from sklearn.feature_extraction.text import CountVectorizer\r\n",
        "from sklearn.model_selection import train_test_split\r\n"
      ],
      "execution_count": 69,
      "outputs": []
    },
    {
      "cell_type": "code",
      "metadata": {
        "colab": {
          "base_uri": "https://localhost:8080/"
        },
        "id": "Qr8ZDhhG9fNT",
        "outputId": "8d073dd1-ce99-4e7e-c97b-52353fba2b1d"
      },
      "source": [
        "nltk.download('stopwords')"
      ],
      "execution_count": 70,
      "outputs": [
        {
          "output_type": "stream",
          "text": [
            "[nltk_data] Downloading package stopwords to /root/nltk_data...\n",
            "[nltk_data]   Package stopwords is already up-to-date!\n"
          ],
          "name": "stdout"
        },
        {
          "output_type": "execute_result",
          "data": {
            "text/plain": [
              "True"
            ]
          },
          "metadata": {
            "tags": []
          },
          "execution_count": 70
        }
      ]
    },
    {
      "cell_type": "code",
      "metadata": {
        "id": "_jpY7ABj5JXt"
      },
      "source": [
        "df = pd.read_csv('/content/sample_data/spam.csv', encoding='ISO-8859-1')\r\n",
        "le = LabelEncoder()"
      ],
      "execution_count": 71,
      "outputs": []
    },
    {
      "cell_type": "code",
      "metadata": {
        "colab": {
          "base_uri": "https://localhost:8080/",
          "height": 246
        },
        "id": "BTqhsrEx5O63",
        "outputId": "f8f614cb-e7bb-4e19-c3d6-af3eb3fdd0ac"
      },
      "source": [
        "df.head()"
      ],
      "execution_count": 72,
      "outputs": [
        {
          "output_type": "execute_result",
          "data": {
            "text/html": [
              "<div>\n",
              "<style scoped>\n",
              "    .dataframe tbody tr th:only-of-type {\n",
              "        vertical-align: middle;\n",
              "    }\n",
              "\n",
              "    .dataframe tbody tr th {\n",
              "        vertical-align: top;\n",
              "    }\n",
              "\n",
              "    .dataframe thead th {\n",
              "        text-align: right;\n",
              "    }\n",
              "</style>\n",
              "<table border=\"1\" class=\"dataframe\">\n",
              "  <thead>\n",
              "    <tr style=\"text-align: right;\">\n",
              "      <th></th>\n",
              "      <th>v1</th>\n",
              "      <th>v2</th>\n",
              "      <th>Unnamed: 2</th>\n",
              "      <th>Unnamed: 3</th>\n",
              "      <th>Unnamed: 4</th>\n",
              "    </tr>\n",
              "  </thead>\n",
              "  <tbody>\n",
              "    <tr>\n",
              "      <th>0</th>\n",
              "      <td>ham</td>\n",
              "      <td>Go until jurong point, crazy.. Available only ...</td>\n",
              "      <td>NaN</td>\n",
              "      <td>NaN</td>\n",
              "      <td>NaN</td>\n",
              "    </tr>\n",
              "    <tr>\n",
              "      <th>1</th>\n",
              "      <td>ham</td>\n",
              "      <td>Ok lar... Joking wif u oni...</td>\n",
              "      <td>NaN</td>\n",
              "      <td>NaN</td>\n",
              "      <td>NaN</td>\n",
              "    </tr>\n",
              "    <tr>\n",
              "      <th>2</th>\n",
              "      <td>spam</td>\n",
              "      <td>Free entry in 2 a wkly comp to win FA Cup fina...</td>\n",
              "      <td>NaN</td>\n",
              "      <td>NaN</td>\n",
              "      <td>NaN</td>\n",
              "    </tr>\n",
              "    <tr>\n",
              "      <th>3</th>\n",
              "      <td>ham</td>\n",
              "      <td>U dun say so early hor... U c already then say...</td>\n",
              "      <td>NaN</td>\n",
              "      <td>NaN</td>\n",
              "      <td>NaN</td>\n",
              "    </tr>\n",
              "    <tr>\n",
              "      <th>4</th>\n",
              "      <td>ham</td>\n",
              "      <td>Nah I don't think he goes to usf, he lives aro...</td>\n",
              "      <td>NaN</td>\n",
              "      <td>NaN</td>\n",
              "      <td>NaN</td>\n",
              "    </tr>\n",
              "  </tbody>\n",
              "</table>\n",
              "</div>"
            ],
            "text/plain": [
              "     v1  ... Unnamed: 4\n",
              "0   ham  ...        NaN\n",
              "1   ham  ...        NaN\n",
              "2  spam  ...        NaN\n",
              "3   ham  ...        NaN\n",
              "4   ham  ...        NaN\n",
              "\n",
              "[5 rows x 5 columns]"
            ]
          },
          "metadata": {
            "tags": []
          },
          "execution_count": 72
        }
      ]
    },
    {
      "cell_type": "code",
      "metadata": {
        "id": "AAA9cYP35O2E"
      },
      "source": [
        "data = df.to_numpy()"
      ],
      "execution_count": 73,
      "outputs": []
    },
    {
      "cell_type": "code",
      "metadata": {
        "colab": {
          "base_uri": "https://localhost:8080/"
        },
        "id": "RNZ9DdBg5Oty",
        "outputId": "3c9280f7-dc22-45c2-ac82-d9c4042d8619"
      },
      "source": [
        "data"
      ],
      "execution_count": 74,
      "outputs": [
        {
          "output_type": "execute_result",
          "data": {
            "text/plain": [
              "array([['ham',\n",
              "        'Go until jurong point, crazy.. Available only in bugis n great world la e buffet... Cine there got amore wat...',\n",
              "        nan, nan, nan],\n",
              "       ['ham', 'Ok lar... Joking wif u oni...', nan, nan, nan],\n",
              "       ['spam',\n",
              "        \"Free entry in 2 a wkly comp to win FA Cup final tkts 21st May 2005. Text FA to 87121 to receive entry question(std txt rate)T&C's apply 08452810075over18's\",\n",
              "        nan, nan, nan],\n",
              "       ...,\n",
              "       ['ham',\n",
              "        'Pity, * was in mood for that. So...any other suggestions?', nan,\n",
              "        nan, nan],\n",
              "       ['ham',\n",
              "        \"The guy did some bitching but I acted like i'd be interested in buying something else next week and he gave it to us for free\",\n",
              "        nan, nan, nan],\n",
              "       ['ham', 'Rofl. Its true to its name', nan, nan, nan]], dtype=object)"
            ]
          },
          "metadata": {
            "tags": []
          },
          "execution_count": 74
        }
      ]
    },
    {
      "cell_type": "code",
      "metadata": {
        "id": "qhrmbVl65OnD"
      },
      "source": [
        "y = data[:, 0]\r\n",
        "X = data[:, 1]"
      ],
      "execution_count": 75,
      "outputs": []
    },
    {
      "cell_type": "code",
      "metadata": {
        "colab": {
          "base_uri": "https://localhost:8080/"
        },
        "id": "RFF9xZHe5Oif",
        "outputId": "968e8952-ed1d-45df-a5aa-d7e925fb5af4"
      },
      "source": [
        "X.shape, y.shape"
      ],
      "execution_count": 76,
      "outputs": [
        {
          "output_type": "execute_result",
          "data": {
            "text/plain": [
              "((5572,), (5572,))"
            ]
          },
          "metadata": {
            "tags": []
          },
          "execution_count": 76
        }
      ]
    },
    {
      "cell_type": "code",
      "metadata": {
        "id": "EP79NU2a5Odg"
      },
      "source": [
        "tokenizer = RegexpTokenizer('\\w+')\r\n",
        "sw = set(stopwords.words('english'))\r\n",
        "ps = PorterStemmer()"
      ],
      "execution_count": 77,
      "outputs": []
    },
    {
      "cell_type": "code",
      "metadata": {
        "id": "0zrmqROy5OXB"
      },
      "source": [
        "def getStemmedReview(review):\r\n",
        "    review = review.lower()\r\n",
        "    \r\n",
        "    # tokenize\r\n",
        "    tokens = tokenizer.tokenize(review)\r\n",
        "\r\n",
        "    # removing the stopwords\r\n",
        "    new_tokens = [token for token in tokens if token not in sw]\r\n",
        "    \r\n",
        "    # stemming\r\n",
        "    stemmed_tokens = [ps.stem(token) for token in new_tokens]\r\n",
        "    \r\n",
        "    cleaned_review = ' '.join(stemmed_tokens)\r\n",
        "\r\n",
        "    return cleaned_review"
      ],
      "execution_count": 78,
      "outputs": []
    },
    {
      "cell_type": "code",
      "metadata": {
        "id": "cx6RKdfh5OSd"
      },
      "source": [
        "def getStemmedDocument(document):\r\n",
        "    d = []\r\n",
        "    for doc in document:\r\n",
        "        d.append(getStemmedReview(doc))\r\n",
        "    return d"
      ],
      "execution_count": 79,
      "outputs": []
    },
    {
      "cell_type": "code",
      "metadata": {
        "id": "ffkPmHPI5OPi"
      },
      "source": [
        "stemmed_document = getStemmedDocument(X)"
      ],
      "execution_count": 80,
      "outputs": []
    },
    {
      "cell_type": "code",
      "metadata": {
        "colab": {
          "base_uri": "https://localhost:8080/"
        },
        "id": "NiiqsF5W5ONC",
        "outputId": "593d0124-e8f2-4949-eef5-180e3f39f46d"
      },
      "source": [
        "stemmed_document[:10]"
      ],
      "execution_count": 81,
      "outputs": [
        {
          "output_type": "execute_result",
          "data": {
            "text/plain": [
              "['go jurong point crazi avail bugi n great world la e buffet cine got amor wat',\n",
              " 'ok lar joke wif u oni',\n",
              " 'free entri 2 wkli comp win fa cup final tkt 21st may 2005 text fa 87121 receiv entri question std txt rate c appli 08452810075over18',\n",
              " 'u dun say earli hor u c alreadi say',\n",
              " 'nah think goe usf live around though',\n",
              " 'freemsg hey darl 3 week word back like fun still tb ok xxx std chg send å 1 50 rcv',\n",
              " 'even brother like speak treat like aid patent',\n",
              " 'per request mell mell oru minnaminungint nurungu vettam set callertun caller press 9 copi friend callertun',\n",
              " 'winner valu network custom select receivea å 900 prize reward claim call 09061701461 claim code kl341 valid 12 hour',\n",
              " 'mobil 11 month u r entitl updat latest colour mobil camera free call mobil updat co free 08002986030']"
            ]
          },
          "metadata": {
            "tags": []
          },
          "execution_count": 81
        }
      ]
    },
    {
      "cell_type": "code",
      "metadata": {
        "id": "EYZ89ELJ5OKi"
      },
      "source": [
        "cv = CountVectorizer()"
      ],
      "execution_count": 82,
      "outputs": []
    },
    {
      "cell_type": "code",
      "metadata": {
        "id": "4sAMR3nd5OHS"
      },
      "source": [
        "vectorized_corpus = cv.fit_transform(stemmed_document)"
      ],
      "execution_count": 83,
      "outputs": []
    },
    {
      "cell_type": "code",
      "metadata": {
        "id": "dCUM2A039Ayn"
      },
      "source": [
        "X = vectorized_corpus.todense()"
      ],
      "execution_count": 84,
      "outputs": []
    },
    {
      "cell_type": "code",
      "metadata": {
        "id": "5sKPCPDn9AtP"
      },
      "source": [
        "X_train, X_test, y_train, y_test = train_test_split(\r\n",
        "...     X, y, test_size=0.33, random_state=42)"
      ],
      "execution_count": 85,
      "outputs": []
    },
    {
      "cell_type": "code",
      "metadata": {
        "id": "SJ2M1X6E9Ap1"
      },
      "source": [
        "from sklearn.naive_bayes import MultinomialNB"
      ],
      "execution_count": 86,
      "outputs": []
    },
    {
      "cell_type": "code",
      "metadata": {
        "colab": {
          "base_uri": "https://localhost:8080/"
        },
        "id": "8ymywQd19Ajz",
        "outputId": "5d466b58-d40f-4ce3-f985-b04d2244c958"
      },
      "source": [
        "model = MultinomialNB()\r\n",
        "model.fit(X_train, y_train)"
      ],
      "execution_count": 87,
      "outputs": [
        {
          "output_type": "execute_result",
          "data": {
            "text/plain": [
              "MultinomialNB(alpha=1.0, class_prior=None, fit_prior=True)"
            ]
          },
          "metadata": {
            "tags": []
          },
          "execution_count": 87
        }
      ]
    },
    {
      "cell_type": "code",
      "metadata": {
        "colab": {
          "base_uri": "https://localhost:8080/"
        },
        "id": "tkG76Y2r9Adt",
        "outputId": "275f5c86-9e02-4382-a19d-9dc5527be57f"
      },
      "source": [
        "model.score(X_test, y_test)"
      ],
      "execution_count": 88,
      "outputs": [
        {
          "output_type": "execute_result",
          "data": {
            "text/plain": [
              "0.977705274605764"
            ]
          },
          "metadata": {
            "tags": []
          },
          "execution_count": 88
        }
      ]
    },
    {
      "cell_type": "code",
      "metadata": {
        "id": "t1LpAVSf9AYS"
      },
      "source": [
        "messages = [\r\n",
        "    \"\"\"\r\n",
        "Hi Koushik,\r\n",
        "We invite you to participate in MishMash - India’s largest online diversity hackathon. \r\n",
        "The hackathon is a Skillenza initiative and sponsored by Microsoft, Unity, Unilever, Gojek, Rocketium and Jharkhand Government. \r\n",
        "We have a special theme for you - Deep Tech/Machine Learning - sponsored by Unilever, which will be perfect for you.\"\"\",\r\n",
        "    \r\n",
        "    \r\n",
        "    \"\"\"Join us today at 12:00 PM ET / 16:00 UTC for a Red Hat DevNation tech talk on AWS Lambda and serverless Java with Bill Burke.\r\n",
        "Have you ever tried Java on AWS Lambda but found that the cold-start latency and memory usage were far too high? \r\n",
        "In this session, we will show how we optimized Java for serverless applications by leveraging GraalVM with Quarkus to \r\n",
        "provide both supersonic startup speed and a subatomic memory footprint.\"\"\",\r\n",
        "\r\n",
        "    \"\"\"We really appreciate your interest and wanted to let you know that we have received your application.\r\n",
        "There is strong competition for jobs at Intel, and we receive many applications. As a result, it may take some time to get back to you.\r\n",
        "Whether or not this position ends up being a fit, we will keep your information per data retention policies, \r\n",
        "so we can contact you for other positions that align to your experience and skill set.\r\n",
        "\"\"\"\r\n",
        "]"
      ],
      "execution_count": 89,
      "outputs": []
    },
    {
      "cell_type": "code",
      "metadata": {
        "id": "ZnD4EkQE9AUs"
      },
      "source": [
        "def prepare_message(messages):\r\n",
        "    d = getStemmedDocument(messages)\r\n",
        "    # very very import, dont do fit_transform!\r\n",
        "    return cv.transform(d)\r\n",
        "\r\n",
        "messages = prepare_message(messages)"
      ],
      "execution_count": 90,
      "outputs": []
    },
    {
      "cell_type": "code",
      "metadata": {
        "id": "iVm_dUJW9APN"
      },
      "source": [
        "y_pred = model.predict(messages)"
      ],
      "execution_count": 91,
      "outputs": []
    },
    {
      "cell_type": "code",
      "metadata": {
        "colab": {
          "base_uri": "https://localhost:8080/"
        },
        "id": "1N1dfGbk94T2",
        "outputId": "1f6578c9-f639-41a5-9109-d2fe4bc3f291"
      },
      "source": [
        "print(y_pred)"
      ],
      "execution_count": 92,
      "outputs": [
        {
          "output_type": "stream",
          "text": [
            "['ham' 'spam' 'ham']\n"
          ],
          "name": "stdout"
        }
      ]
    }
  ]
}